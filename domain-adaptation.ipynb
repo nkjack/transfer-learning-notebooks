{
 "cells": [
  {
   "cell_type": "markdown",
   "metadata": {},
   "source": [
    "Note: for the next block to run, you should manually [download](https://drive.google.com/open?id=0B_tExHiYS-0veklUZHFYT19KYjg) the MNIST-M dataset and unpack it into data_dir.\n",
    "\n",
    "- paper - https://arxiv.org/pdf/1505.07818.pdf\n",
    "- code pieces were taken from Technion cs236781"
   ]
  },
  {
   "cell_type": "code",
   "execution_count": 1,
   "metadata": {},
   "outputs": [],
   "source": [
    "%matplotlib inline\n",
    "import os\n",
    "import sys\n",
    "import torch\n",
    "import numpy as np\n",
    "import matplotlib.pyplot as plt\n",
    "\n",
    "import math\n",
    "import torchvision as tv\n",
    "import torch.optim as optim\n",
    "import torch.nn as nn\n",
    "import torchvision.transforms as tvtf\n"
   ]
  },
  {
   "cell_type": "code",
   "execution_count": 2,
   "metadata": {},
   "outputs": [],
   "source": [
    "plt.rcParams['font.size'] = 20\n",
    "data_dir = os.path.expanduser('~/.pytorch-datasets')\n",
    "device = torch.device('cuda' if torch.cuda.is_available() else 'cpu')"
   ]
  },
  {
   "cell_type": "code",
   "execution_count": 3,
   "metadata": {},
   "outputs": [],
   "source": [
    "from src.data import MNISTMDataset\n",
    "from src.plot_utils import dataset_first_n\n",
    "\n",
    "image_size = 28\n",
    "batch_size = 4\n",
    "tf_source = tvtf.Compose([ tvtf.Resize(image_size), tvtf.ToTensor(), tvtf.Normalize(mean=(0.1307,), std=(0.3081,)) ])\n",
    "tf_target = tvtf.Compose([\n",
    "    tvtf.Resize(image_size), tvtf.ToTensor(), tvtf.Normalize(mean=(0.5, 0.5, 0.5), std=(0.5, 0.5, 0.5))\n",
    "])\n",
    "\n",
    "ds_source = tv.datasets.MNIST(root=data_dir, train=True, transform=tf_source, download=True)\n",
    "\n",
    "# Custom PyTorch Dataset class to load MNIST-M\n",
    "ds_target = MNISTMDataset(os.path.join(data_dir, 'mnist_m', 'mnist_m_train'),\n",
    "                          os.path.join(data_dir, 'mnist_m', 'mnist_m_train_labels.txt'),\n",
    "                         transform=tf_target)"
   ]
  },
  {
   "cell_type": "code",
   "execution_count": 4,
   "metadata": {},
   "outputs": [
    {
     "data": {
      "image/png": "[encoded data removed]",
      "text/plain": [
       "<Figure size 576x576 with 3 Axes>"
      ]
     },
     "metadata": {},
     "output_type": "display_data"
    },
    {
     "data": {
      "image/png": "[encoded data removed]",
      "text/plain": [
       "<Figure size 576x576 with 3 Axes>"
      ]
     },
     "metadata": {},
     "output_type": "display_data"
    }
   ],
   "source": [
    "# Show a few random images from each dataset\n",
    "dataset_first_n(ds_source, 3, cmap='gray', random_start=True);\n",
    "dataset_first_n(ds_target, 3, random_start=True);"
   ]
  },
  {
   "cell_type": "code",
   "execution_count": 5,
   "metadata": {},
   "outputs": [],
   "source": [
    "# Dataloaders\n",
    "dl_source = torch.utils.data.DataLoader(ds_source, batch_size)\n",
    "dl_target = torch.utils.data.DataLoader(ds_target, batch_size)"
   ]
  },
  {
   "cell_type": "code",
   "execution_count": 6,
   "metadata": {},
   "outputs": [],
   "source": [
    "from torch.autograd import Function\n",
    "\n",
    "class GradientReversalFn(Function):\n",
    "    @staticmethod\n",
    "    def forward(ctx, x, λ):\n",
    "        # Store context for backprop\n",
    "        ctx.λ = λ\n",
    "        \n",
    "        # Forward pass is a no-op\n",
    "        return x\n",
    "\n",
    "    @staticmethod\n",
    "    def backward(ctx, grad_output):\n",
    "        # grad_output is dL/dx (since our forward's output was x)\n",
    "        \n",
    "        # Backward pass is just to apply -λ to the gradient\n",
    "        # This will become the new dL/dx in the rest of the network\n",
    "        output =  - ctx.λ * grad_output\n",
    "\n",
    "        # Must return number of inputs to forward()\n",
    "        return output, None"
   ]
  },
  {
   "cell_type": "code",
   "execution_count": 7,
   "metadata": {},
   "outputs": [],
   "source": [
    "class DACNN(nn.Module):\n",
    "    def __init__(self):\n",
    "        super().__init__()\n",
    "        self.feature_extractor = nn.Sequential(\n",
    "            nn.Conv2d(3, 64, kernel_size=5, padding=1, stride=1),  # (28+2P-F)/S + 1 = 26\n",
    "            nn.BatchNorm2d(64), nn.MaxPool2d(2), nn.ReLU(True),    # 26 / 2 = 13\n",
    "            nn.Conv2d(64, 50, kernel_size=5, padding=1, stride=1), # (12+2P-F)/S + 1 = 10\n",
    "            nn.BatchNorm2d(50), nn.MaxPool2d(2), nn.ReLU(True),    # 10 / 2 = 5\n",
    "            nn.Dropout2d(),\n",
    "        )\n",
    "        self.num_cnn_features = 50 * 5 * 5 # Assuming 28x28 input\n",
    "        \n",
    "        self.class_classifier = nn.Sequential(\n",
    "            nn.Linear(self.num_cnn_features, 100),\n",
    "            nn.BatchNorm1d(100), nn.Dropout2d(), nn.ReLU(True),\n",
    "            nn.Linear(100, 100),\n",
    "            nn.BatchNorm1d(100), nn.ReLU(True),\n",
    "            nn.Linear(100, 10),\n",
    "            nn.LogSoftmax(dim=1),\n",
    "        )\n",
    "        \n",
    "        self.domain_classifier = nn.Sequential(\n",
    "            nn.Linear(self.num_cnn_features, 100),\n",
    "            nn.BatchNorm1d(100), nn.ReLU(True),\n",
    "            nn.Linear(100, 2),\n",
    "            nn.LogSoftmax(dim=1),\n",
    "        )\n",
    "        \n",
    "    def forward(self, x, λ=1.0):\n",
    "        # Handle single-channel input by expanding (repeating) the singleton dimention\n",
    "        x = x.expand(x.data.shape[0], 3, image_size, image_size)\n",
    "        \n",
    "        features = self.feature_extractor(x)\n",
    "        features = features.view(-1, self.num_cnn_features)\n",
    "        features_grl = GradientReversalFn.apply(features, λ)\n",
    "        class_pred = self.class_classifier(features)        # classify on regular features\n",
    "        domain_pred = self.domain_classifier(features_grl)  # classify on features after GRL\n",
    "        return class_pred, domain_pred"
   ]
  },
  {
   "cell_type": "markdown",
   "metadata": {},
   "source": [
    "Training"
   ]
  },
  {
   "cell_type": "code",
   "execution_count": 8,
   "metadata": {},
   "outputs": [],
   "source": [
    "lr = 1e-3\n",
    "n_epochs = 3\n",
    "\n",
    "# Setup optimizer as usual\n",
    "model = DACNN()\n",
    "optimizer = optim.Adam(model.parameters(), lr)\n",
    "\n",
    "# Two loss functions this time (can generally be different)\n",
    "loss_fn_class = torch.nn.NLLLoss()\n",
    "loss_fn_domain = torch.nn.NLLLoss()\n",
    "\n",
    "batch_size = 256\n",
    "dl_source = torch.utils.data.DataLoader(ds_source, batch_size)\n",
    "dl_target = torch.utils.data.DataLoader(ds_target, batch_size)\n",
    "\n",
    "# We'll train the same number of batches from both datasets\n",
    "max_batches = min(len(dl_source), len(dl_target))"
   ]
  },
  {
   "cell_type": "code",
   "execution_count": 9,
   "metadata": {},
   "outputs": [
    {
     "name": "stdout",
     "output_type": "stream",
     "text": [
      "Epoch 0001 / 0003\n",
      "=================\n",
      "[1/231] class_loss: 2.3780 s_domain_loss: 0.9973 t_domain_loss: 0.5251 λ: 0.000 \n",
      "[11/231] class_loss: 1.6282 s_domain_loss: 0.6008 t_domain_loss: 0.7939 λ: 0.072 \n",
      "[21/231] class_loss: 1.1917 s_domain_loss: 0.6515 t_domain_loss: 0.7227 λ: 0.143 \n",
      "[31/231] class_loss: 0.9490 s_domain_loss: 0.6949 t_domain_loss: 0.6778 λ: 0.213 \n",
      "[41/231] class_loss: 0.6218 s_domain_loss: 0.6317 t_domain_loss: 0.7279 λ: 0.281 \n",
      "[51/231] class_loss: 0.6065 s_domain_loss: 0.6619 t_domain_loss: 0.6984 λ: 0.346 \n",
      "[61/231] class_loss: 0.4424 s_domain_loss: 0.6592 t_domain_loss: 0.6949 λ: 0.408 \n",
      "[71/231] class_loss: 0.3487 s_domain_loss: 0.6548 t_domain_loss: 0.6955 λ: 0.466 \n",
      "[81/231] class_loss: 0.3399 s_domain_loss: 0.6514 t_domain_loss: 0.6737 λ: 0.521 \n",
      "[91/231] class_loss: 0.2812 s_domain_loss: 0.6279 t_domain_loss: 0.6696 λ: 0.571 \n",
      "[101/231] class_loss: 0.2513 s_domain_loss: 0.6321 t_domain_loss: 0.6546 λ: 0.618 \n",
      "[111/231] class_loss: 0.2947 s_domain_loss: 0.6418 t_domain_loss: 0.6460 λ: 0.660 \n",
      "[121/231] class_loss: 0.2766 s_domain_loss: 0.6402 t_domain_loss: 0.6706 λ: 0.699 \n",
      "[131/231] class_loss: 0.2184 s_domain_loss: 0.6271 t_domain_loss: 0.6654 λ: 0.734 \n",
      "[141/231] class_loss: 0.2101 s_domain_loss: 0.6367 t_domain_loss: 0.6616 λ: 0.766 \n",
      "[151/231] class_loss: 0.2153 s_domain_loss: 0.6088 t_domain_loss: 0.6347 λ: 0.794 \n",
      "[161/231] class_loss: 0.2197 s_domain_loss: 0.6088 t_domain_loss: 0.6575 λ: 0.819 \n",
      "[171/231] class_loss: 0.1732 s_domain_loss: 0.5913 t_domain_loss: 0.6473 λ: 0.842 \n",
      "[181/231] class_loss: 0.3267 s_domain_loss: 0.6236 t_domain_loss: 0.6079 λ: 0.861 \n",
      "[191/231] class_loss: 0.1815 s_domain_loss: 0.5986 t_domain_loss: 0.6277 λ: 0.879 \n",
      "[201/231] class_loss: 0.1903 s_domain_loss: 0.6076 t_domain_loss: 0.6242 λ: 0.894 \n",
      "[211/231] class_loss: 0.2690 s_domain_loss: 0.6118 t_domain_loss: 0.6404 λ: 0.908 \n",
      "[221/231] class_loss: 0.2109 s_domain_loss: 0.6099 t_domain_loss: 0.6509 λ: 0.920 \n",
      "Epoch 0002 / 0003\n",
      "=================\n",
      "[1/231] class_loss: 0.2202 s_domain_loss: 0.6424 t_domain_loss: 0.5744 λ: 0.931 \n",
      "[11/231] class_loss: 0.2125 s_domain_loss: 0.5586 t_domain_loss: 0.6362 λ: 0.940 \n",
      "[21/231] class_loss: 0.2509 s_domain_loss: 0.6460 t_domain_loss: 0.5828 λ: 0.948 \n",
      "[31/231] class_loss: 0.3268 s_domain_loss: 0.6268 t_domain_loss: 0.6222 λ: 0.955 \n",
      "[41/231] class_loss: 0.1782 s_domain_loss: 0.6175 t_domain_loss: 0.6412 λ: 0.961 \n",
      "[51/231] class_loss: 0.2085 s_domain_loss: 0.5946 t_domain_loss: 0.6589 λ: 0.966 \n",
      "[61/231] class_loss: 0.2323 s_domain_loss: 0.5970 t_domain_loss: 0.6433 λ: 0.970 \n",
      "[71/231] class_loss: 0.1874 s_domain_loss: 0.5684 t_domain_loss: 0.6349 λ: 0.974 \n",
      "[81/231] class_loss: 0.2120 s_domain_loss: 0.5880 t_domain_loss: 0.5678 λ: 0.978 \n",
      "[91/231] class_loss: 0.1844 s_domain_loss: 0.6041 t_domain_loss: 0.6311 λ: 0.981 \n",
      "[101/231] class_loss: 0.2233 s_domain_loss: 0.6287 t_domain_loss: 0.6216 λ: 0.983 \n",
      "[111/231] class_loss: 0.2447 s_domain_loss: 0.6102 t_domain_loss: 0.6727 λ: 0.986 \n",
      "[121/231] class_loss: 0.2627 s_domain_loss: 0.6329 t_domain_loss: 0.6396 λ: 0.987 \n",
      "[131/231] class_loss: 0.2133 s_domain_loss: 0.5906 t_domain_loss: 0.6310 λ: 0.989 \n",
      "[141/231] class_loss: 0.2478 s_domain_loss: 0.6066 t_domain_loss: 0.6453 λ: 0.991 \n",
      "[151/231] class_loss: 0.2020 s_domain_loss: 0.6442 t_domain_loss: 0.6285 λ: 0.992 \n",
      "[161/231] class_loss: 0.2244 s_domain_loss: 0.6350 t_domain_loss: 0.6630 λ: 0.993 \n",
      "[171/231] class_loss: 0.1808 s_domain_loss: 0.6130 t_domain_loss: 0.6369 λ: 0.994 \n",
      "[181/231] class_loss: 0.2853 s_domain_loss: 0.6506 t_domain_loss: 0.6229 λ: 0.995 \n",
      "[191/231] class_loss: 0.1227 s_domain_loss: 0.5951 t_domain_loss: 0.6554 λ: 0.995 \n",
      "[201/231] class_loss: 0.1573 s_domain_loss: 0.6816 t_domain_loss: 0.6321 λ: 0.996 \n",
      "[211/231] class_loss: 0.2422 s_domain_loss: 0.5882 t_domain_loss: 0.6932 λ: 0.997 \n",
      "[221/231] class_loss: 0.2191 s_domain_loss: 0.6484 t_domain_loss: 0.6722 λ: 0.997 \n",
      "Epoch 0003 / 0003\n",
      "=================\n",
      "[1/231] class_loss: 0.2453 s_domain_loss: 0.6417 t_domain_loss: 0.6259 λ: 0.997 \n",
      "[11/231] class_loss: 0.2351 s_domain_loss: 0.6157 t_domain_loss: 0.6388 λ: 0.998 \n",
      "[21/231] class_loss: 0.2882 s_domain_loss: 0.6473 t_domain_loss: 0.6317 λ: 0.998 \n",
      "[31/231] class_loss: 0.2410 s_domain_loss: 0.6436 t_domain_loss: 0.5980 λ: 0.998 \n",
      "[41/231] class_loss: 0.2091 s_domain_loss: 0.6261 t_domain_loss: 0.6320 λ: 0.999 \n",
      "[51/231] class_loss: 0.2175 s_domain_loss: 0.5951 t_domain_loss: 0.6575 λ: 0.999 \n",
      "[61/231] class_loss: 0.2247 s_domain_loss: 0.6078 t_domain_loss: 0.6766 λ: 0.999 \n",
      "[71/231] class_loss: 0.1973 s_domain_loss: 0.6261 t_domain_loss: 0.6115 λ: 0.999 \n",
      "[81/231] class_loss: 0.1689 s_domain_loss: 0.6456 t_domain_loss: 0.6248 λ: 0.999 \n",
      "[91/231] class_loss: 0.1444 s_domain_loss: 0.6455 t_domain_loss: 0.6617 λ: 0.999 \n",
      "[101/231] class_loss: 0.1629 s_domain_loss: 0.6334 t_domain_loss: 0.6154 λ: 0.999 \n",
      "[111/231] class_loss: 0.2747 s_domain_loss: 0.6375 t_domain_loss: 0.6265 λ: 0.999 \n",
      "[121/231] class_loss: 0.1801 s_domain_loss: 0.6298 t_domain_loss: 0.6188 λ: 1.000 \n",
      "[131/231] class_loss: 0.1982 s_domain_loss: 0.6338 t_domain_loss: 0.6621 λ: 1.000 \n",
      "[141/231] class_loss: 0.2544 s_domain_loss: 0.6144 t_domain_loss: 0.6939 λ: 1.000 \n",
      "[151/231] class_loss: 0.1993 s_domain_loss: 0.6710 t_domain_loss: 0.6286 λ: 1.000 \n",
      "[161/231] class_loss: 0.2063 s_domain_loss: 0.5991 t_domain_loss: 0.6809 λ: 1.000 \n",
      "[171/231] class_loss: 0.1652 s_domain_loss: 0.5860 t_domain_loss: 0.5993 λ: 1.000 \n",
      "[181/231] class_loss: 0.2732 s_domain_loss: 0.6201 t_domain_loss: 0.5810 λ: 1.000 \n",
      "[191/231] class_loss: 0.0875 s_domain_loss: 0.5868 t_domain_loss: 0.6513 λ: 1.000 \n",
      "[201/231] class_loss: 0.1415 s_domain_loss: 0.5993 t_domain_loss: 0.6442 λ: 1.000 \n",
      "[211/231] class_loss: 0.2395 s_domain_loss: 0.6084 t_domain_loss: 0.6846 λ: 1.000 \n",
      "[221/231] class_loss: 0.1989 s_domain_loss: 0.6655 t_domain_loss: 0.6353 λ: 1.000 \n"
     ]
    }
   ],
   "source": [
    "for epoch_idx in range(n_epochs):\n",
    "    print(f'Epoch {epoch_idx+1:04d} / {n_epochs:04d}', end='\\n=================\\n')\n",
    "    dl_source_iter = iter(dl_source)\n",
    "    dl_target_iter = iter(dl_target)\n",
    "\n",
    "    for batch_idx in range(max_batches-1):\n",
    "        # Calculate training progress and GRL λ\n",
    "        p = float(batch_idx + epoch_idx * max_batches) / (n_epochs * max_batches)\n",
    "        λ = 2. / (1. + np.exp(-10 * p)) - 1\n",
    "\n",
    "        # === Train on source domain\n",
    "        X_s, y_s = next(dl_source_iter)\n",
    "        y_s_domain = torch.zeros(batch_size, dtype=torch.long) # generate source domain labels: 0\n",
    "\n",
    "        class_pred, domain_pred = model(X_s, λ)\n",
    "        loss_s_label = loss_fn_class(class_pred, y_s)           # source classification loss\n",
    "        loss_s_domain = loss_fn_domain(domain_pred, y_s_domain) # source domain loss (via GRL)\n",
    "\n",
    "        # === Train on target domain\n",
    "        X_t, _ = next(dl_target_iter) # Note: ignoring target domain class labels!\n",
    "        y_t_domain = torch.ones(batch_size, dtype=torch.long) # generate target domain labels: 1\n",
    "\n",
    "        _, domain_pred = model(X_t, λ)\n",
    "        loss_t_domain = loss_fn_domain(domain_pred, y_t_domain) # target domain loss (via GRL)\n",
    "        \n",
    "        # === Optimize\n",
    "        loss = loss_t_domain + loss_s_domain + loss_s_label\n",
    "        optimizer.zero_grad()\n",
    "        loss.backward()\n",
    "        optimizer.step()\n",
    "\n",
    "        if batch_idx % 10 == 0:\n",
    "            print(f'[{batch_idx+1}/{max_batches}] '\n",
    "                  f'class_loss: {loss_s_label.item():.4f} ' f's_domain_loss: {loss_s_domain.item():.4f} '\n",
    "                  f't_domain_loss: {loss_t_domain.item():.4f} ' f'λ: {λ:.3f} '\n",
    "                 )\n"
   ]
  }
 ],
 "metadata": {
  "kernelspec": {
   "display_name": "Python 3",
   "language": "python",
   "name": "python3"
  },
  "language_info": {
   "codemirror_mode": {
    "name": "ipython",
    "version": 3
   },
   "file_extension": ".py",
   "mimetype": "text/x-python",
   "name": "python",
   "nbconvert_exporter": "python",
   "pygments_lexer": "ipython3",
   "version": "3.8.5"
  }
 },
 "nbformat": 4,
 "nbformat_minor": 4
}
